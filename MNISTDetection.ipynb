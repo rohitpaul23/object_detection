{
  "nbformat": 4,
  "nbformat_minor": 0,
  "metadata": {
    "colab": {
      "provenance": []
    },
    "kernelspec": {
      "name": "python3",
      "display_name": "Python 3"
    },
    "language_info": {
      "name": "python"
    },
    "accelerator": "TPU",
    "gpuClass": "standard"
  },
  "cells": [
    {
      "cell_type": "markdown",
      "source": [
        "#Image Classification and Object Localization\n",
        "\n",
        "Here, you'll build a CNN from scratch to:\n",
        "\n",
        "* classify the main subject in an image\n",
        "* localize it by drawing bounding boxes around it.\n",
        "\n",
        "We'll use the MNIST dataset to synthesize a custom dataset for the task:\n",
        "\n",
        "* Place each \"digit\" image on a black canvas of width 75 x 75 at random locations.\n",
        "* Calculate the corresponding bounding boxes for those \"digits\".\n",
        "\n",
        "The bounding box prediction can be modelled as a \"regression\" task, which means that the model will predict a numeric value (as opposed to a category).\n",
        "\n",
        "##Imports"
      ],
      "metadata": {
        "id": "n8FJhPFJxb7b"
      }
    },
    {
      "cell_type": "code",
      "execution_count": null,
      "metadata": {
        "colab": {
          "base_uri": "https://localhost:8080/"
        },
        "id": "ggu9i4PAwMh_",
        "outputId": "482bc5cb-c8b5-4e6b-9a67-415cb96fdeb4"
      },
      "outputs": [
        {
          "output_type": "stream",
          "name": "stdout",
          "text": [
            "Colab only includes TensorFlow 2.x; %tensorflow_version has no effect.\n",
            "Tensorflow version 2.11.0\n"
          ]
        }
      ],
      "source": [
        "import os, re, time, json\n",
        "import PIL.Image, PIL.ImageFont, PIL.ImageDraw\n",
        "import numpy as np\n",
        "try:\n",
        "  # %tensorflow_version only exists in Colab.\n",
        "  %tensorflow_version 2.x\n",
        "except Exception:\n",
        "  pass\n",
        "import tensorflow as tf\n",
        "from matplotlib import pyplot as plt\n",
        "import tensorflow_datasets as tfds\n",
        "\n",
        "print(\"Tensorflow version \" + tf.__version__)\n"
      ]
    },
    {
      "cell_type": "markdown",
      "source": [
        "##Visualization Utilities\n",
        "\n",
        "These functions are used to draw bounding boxes around the digits."
      ],
      "metadata": {
        "id": "IS3BL2-7yIDk"
      }
    },
    {
      "cell_type": "code",
      "source": [
        "#@title  { display-mode: \"code\" }\n",
        "\n",
        "im_width = 75\n",
        "im_height = 75\n",
        "use_normalized_coordinates = True\n",
        "\n",
        "def draw_bounding_boxes_on_image_array(image,\n",
        "                                       boxes,\n",
        "                                       color=[],\n",
        "                                       thickness=1,\n",
        "                                       display_str_list=()):\n",
        "  \"\"\"Draws bounding boxes on image (numpy array).\n",
        "  Args:\n",
        "    image: a numpy array object.\n",
        "    boxes: a 2 dimensional numpy array of [N, 4]: (ymin, xmin, ymax, xmax).\n",
        "           The coordinates are in normalized format between [0, 1].\n",
        "    color: color to draw bounding box. Default is red.\n",
        "    thickness: line thickness. Default value is 4.\n",
        "    display_str_list_list: a list of strings for each bounding box.\n",
        "  Raises:\n",
        "    ValueError: if boxes is not a [N, 4] array\n",
        "  \"\"\"\n",
        "  \n",
        "  image_pil = PIL.Image.fromarray(image)\n",
        "  rgbimg = PIL.Image.new(\"RGBA\", image_pil.size)\n",
        "  rgbimg.paste(image_pil)\n",
        "  draw_bounding_boxes_on_image(rgbimg, boxes, color, thickness,\n",
        "                               display_str_list)\n",
        "  return np.array(rgbimg)\n",
        "  \n",
        "\n",
        "def draw_bounding_boxes_on_image(image,\n",
        "                                 boxes,\n",
        "                                 color=[],\n",
        "                                 thickness=1,\n",
        "                                 display_str_list=()):\n",
        "  \"\"\"Draws bounding boxes on image.\n",
        "  Args:\n",
        "    image: a PIL.Image object.\n",
        "    boxes: a 2 dimensional numpy array of [N, 4]: (ymin, xmin, ymax, xmax).\n",
        "           The coordinates are in normalized format between [0, 1].\n",
        "    color: color to draw bounding box. Default is red.\n",
        "    thickness: line thickness. Default value is 4.\n",
        "    display_str_list: a list of strings for each bounding box.\n",
        "                           \n",
        "  Raises:\n",
        "    ValueError: if boxes is not a [N, 4] array\n",
        "  \"\"\"\n",
        "  boxes_shape = boxes.shape\n",
        "  if not boxes_shape:\n",
        "    return\n",
        "  if len(boxes_shape) != 2 or boxes_shape[1] != 4:\n",
        "    raise ValueError('Input must be of size [N, 4]')\n",
        "  for i in range(boxes_shape[0]):\n",
        "    draw_bounding_box_on_image(image, boxes[i, 1], boxes[i, 0], boxes[i, 3],\n",
        "                               boxes[i, 2], color[i], thickness, display_str_list[i])\n",
        "        \n",
        "def draw_bounding_box_on_image(image,\n",
        "                               ymin,\n",
        "                               xmin,\n",
        "                               ymax,\n",
        "                               xmax,\n",
        "                               color='red',\n",
        "                               thickness=1,\n",
        "                               display_str=None,\n",
        "                               use_normalized_coordinates=True):\n",
        "  \"\"\"Adds a bounding box to an image.\n",
        "  Bounding box coordinates can be specified in either absolute (pixel) or\n",
        "  normalized coordinates by setting the use_normalized_coordinates argument.\n",
        "  Args:\n",
        "    image: a PIL.Image object.\n",
        "    ymin: ymin of bounding box.\n",
        "    xmin: xmin of bounding box.\n",
        "    ymax: ymax of bounding box.\n",
        "    xmax: xmax of bounding box.\n",
        "    color: color to draw bounding box. Default is red.\n",
        "    thickness: line thickness. Default value is 4.\n",
        "    display_str_list: string to display in box\n",
        "    use_normalized_coordinates: If True (default), treat coordinates\n",
        "      ymin, xmin, ymax, xmax as relative to the image.  Otherwise treat\n",
        "      coordinates as absolute.\n",
        "  \"\"\"\n",
        "  draw = PIL.ImageDraw.Draw(image)\n",
        "  im_width, im_height = image.size\n",
        "  if use_normalized_coordinates:\n",
        "    (left, right, top, bottom) = (xmin * im_width, xmax * im_width,\n",
        "                                  ymin * im_height, ymax * im_height)\n",
        "  else:\n",
        "    (left, right, top, bottom) = (xmin, xmax, ymin, ymax)\n",
        "  draw.line([(left, top), (left, bottom), (right, bottom),\n",
        "             (right, top), (left, top)], width=thickness, fill=color)\n"
      ],
      "metadata": {
        "id": "LbiZ1trMyegE"
      },
      "execution_count": null,
      "outputs": []
    },
    {
      "cell_type": "markdown",
      "source": [
        "These utilities are used to visualize the data and predictions."
      ],
      "metadata": {
        "id": "SjhxIHJVzTFe"
      }
    },
    {
      "cell_type": "code",
      "source": [
        "#@title  { form-width: \"100px\", display-mode: \"code\" }\n",
        "\"\"\"\n",
        "This cell contains helper functions used for visualization\n",
        "and downloads only. \n",
        "\n",
        "You can skip reading it, as there is very\n",
        "little Keras or Tensorflow related code here.\n",
        "\"\"\"\n",
        "\n",
        "# Matplotlib config\n",
        "plt.rc('image', cmap='gray')\n",
        "plt.rc('grid', linewidth=0)\n",
        "plt.rc('xtick', top=False, bottom=False, labelsize='large')\n",
        "plt.rc('ytick', left=False, right=False, labelsize='large')\n",
        "plt.rc('axes', facecolor='F8F8F8', titlesize=\"large\", edgecolor='white')\n",
        "plt.rc('text', color='a8151a')\n",
        "plt.rc('figure', facecolor='F0F0F0')# Matplotlib fonts\n",
        "MATPLOTLIB_FONT_DIR = os.path.join(os.path.dirname(plt.__file__), \"mpl-data/fonts/ttf\")\n",
        "\n",
        "# pull a batch from the datasets. This code is not very nice, it gets much better in eager mode (TODO)\n",
        "def dataset_to_numpy_util(training_dataset, validation_dataset, N):\n",
        "  \n",
        "  # get one batch from each: 10000 validation digits, N training digits\n",
        "  batch_train_ds = training_dataset.unbatch().batch(N)\n",
        "  \n",
        "  # eager execution: loop through datasets normally\n",
        "  if tf.executing_eagerly():\n",
        "    for validation_digits, (validation_labels, validation_bboxes) in validation_dataset:\n",
        "      validation_digits = validation_digits.numpy()\n",
        "      validation_labels = validation_labels.numpy()\n",
        "      validation_bboxes = validation_bboxes.numpy()\n",
        "      break\n",
        "    for training_digits, (training_labels, training_bboxes) in batch_train_ds:\n",
        "      training_digits = training_digits.numpy()\n",
        "      training_labels = training_labels.numpy()\n",
        "      training_bboxes = training_bboxes.numpy()\n",
        "      break\n",
        "  \n",
        "  # these were one-hot encoded in the dataset\n",
        "  validation_labels = np.argmax(validation_labels, axis=1)\n",
        "  training_labels = np.argmax(training_labels, axis=1)\n",
        "  \n",
        "  return (training_digits, training_labels, training_bboxes,\n",
        "          validation_digits, validation_labels, validation_bboxes)\n",
        "\n",
        "# create digits from local fonts for testing\n",
        "def create_digits_from_local_fonts(n):\n",
        "  font_labels = []\n",
        "  img = PIL.Image.new('LA', (75*n, 75), color = (0,255)) # format 'LA': black in channel 0, alpha in channel 1\n",
        "  font1 = PIL.ImageFont.truetype(os.path.join(MATPLOTLIB_FONT_DIR, 'DejaVuSansMono-Oblique.ttf'), 25)\n",
        "  font2 = PIL.ImageFont.truetype(os.path.join(MATPLOTLIB_FONT_DIR, 'STIXGeneral.ttf'), 25)\n",
        "  d = PIL.ImageDraw.Draw(img)\n",
        "  for i in range(n):\n",
        "    font_labels.append(i%10)\n",
        "    d.text((7+i*75,0 if i<10 else -4), str(i%10), fill=(255,255), font=font1 if i<10 else font2)\n",
        "  font_digits = np.array(img.getdata(), np.float32)[:,0] / 255.0 # black in channel 0, alpha in channel 1 (discarded)\n",
        "  font_digits = np.reshape(np.stack(np.split(np.reshape(font_digits, [75, 75*n]), n, axis=1), axis=0), [n, 75*75])\n",
        "  return font_digits, font_labels\n",
        "\n",
        "\n",
        "# utility to display a row of digits with their predictions\n",
        "def display_digits_with_boxes(digits, predictions, labels, pred_bboxes, bboxes, iou, title):\n",
        "\n",
        "  n = 10\n",
        "\n",
        "  indexes = np.random.choice(len(predictions), size=n)\n",
        "  n_digits = digits[indexes]\n",
        "  n_predictions = predictions[indexes]\n",
        "  n_labels = labels[indexes]\n",
        "\n",
        "  n_iou = []\n",
        "  if len(iou) > 0:\n",
        "    n_iou = iou[indexes]\n",
        "\n",
        "  if (len(pred_bboxes) > 0):\n",
        "    n_pred_bboxes = pred_bboxes[indexes,:]\n",
        "\n",
        "  if (len(bboxes) > 0):\n",
        "    n_bboxes = bboxes[indexes,:]\n",
        "\n",
        "\n",
        "  n_digits = n_digits * 255.0\n",
        "  n_digits = n_digits.reshape(n, 75, 75)\n",
        "  fig = plt.figure(figsize=(20, 4))\n",
        "  plt.title(title)\n",
        "  plt.yticks([])\n",
        "  plt.xticks([])\n",
        "  \n",
        "  for i in range(10):\n",
        "    ax = fig.add_subplot(1, 10, i+1)\n",
        "    bboxes_to_plot = []\n",
        "    if (len(pred_bboxes) > i):\n",
        "      bboxes_to_plot.append(n_pred_bboxes[i])\n",
        "    \n",
        "    if (len(bboxes) > i):\n",
        "      bboxes_to_plot.append(n_bboxes[i])\n",
        "\n",
        "    img_to_draw = draw_bounding_boxes_on_image_array(image=n_digits[i], boxes=np.asarray(bboxes_to_plot), color=['red', 'green'], display_str_list=[\"true\", \"pred\"])\n",
        "    plt.xlabel(n_predictions[i])\n",
        "    plt.xticks([])\n",
        "    plt.yticks([])\n",
        "    \n",
        "    if n_predictions[i] != n_labels[i]:\n",
        "      ax.xaxis.label.set_color('red')\n",
        "\n",
        "    \n",
        "    \n",
        "    plt.imshow(img_to_draw)\n",
        "\n",
        "    if len(iou) > i :\n",
        "      color = \"black\"\n",
        "      if (n_iou[i][0] < iou_threshold):\n",
        "        color = \"red\"\n",
        "      ax.text(0.2, -0.3, \"iou: %s\" %(n_iou[i][0]), color=color, transform=ax.transAxes)\n",
        "\n",
        "\n",
        "# utility to display training and validation curves\n",
        "def plot_metrics(metric_name, title, ylim=5):\n",
        "  plt.title(title)\n",
        "  plt.ylim(0,ylim)\n",
        "  plt.plot(history.history[metric_name],color='blue',label=metric_name)\n",
        "  plt.plot(history.history['val_' + metric_name],color='green',label='val_' + metric_name)"
      ],
      "metadata": {
        "id": "-GKeB7KpzPYV"
      },
      "execution_count": null,
      "outputs": []
    },
    {
      "cell_type": "markdown",
      "source": [
        "##Selecting Between Strategies\n",
        "\n",
        "###TPU or GPU detection\n",
        "Depending on the hardware available, we'll use different distribution strategies. \n",
        "\n",
        "* If the TPU is available, then we'll be using the TPU Strategy.\n",
        "\n",
        "Otherwise:\n",
        "\n",
        "* If more than one GPU is available, then you'll use the Mirrored Strategy\n",
        "* If one GPU is available or if just the CPU is available, you'll use the default strategy."
      ],
      "metadata": {
        "id": "4YAU60ZZzZV2"
      }
    },
    {
      "cell_type": "code",
      "source": [
        "# Detect hardware\n",
        "try:\n",
        "  tpu = tf.distribute.cluster_resolver.TPUClusterResolver() # TPU detection\n",
        "except ValueError:\n",
        "  tpu = None\n",
        "  gpus = tf.config.experimental.list_logical_devices(\"GPU\")\n",
        "    \n",
        "# Select appropriate distribution strategy\n",
        "if tpu:\n",
        "  tf.config.experimental_connect_to_cluster(tpu)\n",
        "  tf.tpu.experimental.initialize_tpu_system(tpu)\n",
        "  strategy = tf.distribute.TPUStrategy(tpu) # Going back and forth between TPU and host is expensive. Better to run 128 batches on the TPU before reporting back.\n",
        "  print('Running on TPU ', tpu.cluster_spec().as_dict()['worker'])  \n",
        "elif len(gpus) > 1:\n",
        "  strategy = tf.distribute.MirroredStrategy([gpu.name for gpu in gpus])\n",
        "  print('Running on multiple GPUs ', [gpu.name for gpu in gpus])\n",
        "elif len(gpus) == 1:\n",
        "  strategy = tf.distribute.get_strategy() # default strategy that works on CPU and single GPU\n",
        "  print('Running on single GPU ', gpus[0].name)\n",
        "else:\n",
        "  strategy = tf.distribute.get_strategy() # default strategy that works on CPU and single GPU\n",
        "  print('Running on CPU')\n",
        "print(\"Number of accelerators: \", strategy.num_replicas_in_sync)"
      ],
      "metadata": {
        "colab": {
          "base_uri": "https://localhost:8080/"
        },
        "id": "cgTvV3ZBzrg6",
        "outputId": "5b5d9ebe-00d2-48f2-de44-df3d137a10d4"
      },
      "execution_count": null,
      "outputs": [
        {
          "output_type": "stream",
          "name": "stderr",
          "text": [
            "WARNING:tensorflow:TPU system grpc://10.65.111.82:8470 has already been initialized. Reinitializing the TPU can cause previously created variables on TPU to be lost.\n"
          ]
        },
        {
          "output_type": "stream",
          "name": "stdout",
          "text": [
            "Running on TPU  ['10.65.111.82:8470']\n",
            "Number of accelerators:  8\n"
          ]
        }
      ]
    },
    {
      "cell_type": "markdown",
      "source": [
        "###Parameters\n",
        "\n",
        "The global batch size is the batch size per replica (64 in this case) times the number of replicas in the distribution strategy."
      ],
      "metadata": {
        "id": "MyhjKnD-0VKS"
      }
    },
    {
      "cell_type": "code",
      "source": [
        "BATCH_SIZE = 64 * strategy.num_replicas_in_sync # Gobal batch size.\n"
      ],
      "metadata": {
        "id": "AsaSTFmX0d1x"
      },
      "execution_count": null,
      "outputs": []
    },
    {
      "cell_type": "markdown",
      "source": [
        "##Loading and Preprocessing the Dataset\n",
        "\n",
        "Define some helper functions that will pre-process our data:\n",
        "\n",
        "* **read_image_tfds**: randomly overlays the \"digit\" image on top of a larger canvas.\n",
        "* **get_training_dataset**: loads data and splits it to get the training set.\n",
        "* **get_validation_dataset**: loads and splits the data to get the validation set."
      ],
      "metadata": {
        "id": "d5E2bbv20sNQ"
      }
    },
    {
      "cell_type": "code",
      "source": [
        "\n",
        "def read_image_tfds(image, label):\n",
        "  '''\n",
        "  Transforms each image in dataset by pasting it on a 75x75 canvas at random locations.\n",
        "  '''\n",
        "  #Randomly determining offset values\n",
        "  xmin = tf.random.uniform((), 0 , 48, dtype=tf.int32)\n",
        "  ymin = tf.random.uniform((), 0 , 48, dtype=tf.int32)\n",
        "  image = tf.reshape(image, (28,28,1,))\n",
        "  #Pad image with zeros to the specified height and width.\n",
        "  image = tf.image.pad_to_bounding_box(image, ymin, xmin, 75, 75)\n",
        "  #Casts a tensor to a new type.\n",
        "  image = tf.cast(image, tf.float32)/255.0\n",
        "  xmin = tf.cast(xmin, tf.float32)\n",
        "  ymin = tf.cast(ymin, tf.float32)\n",
        "  \n",
        "  #Defining the bounding box\n",
        "  xmax = (xmin + 28) / 75\n",
        "  ymax = (ymin + 28) / 75\n",
        "  xmin = xmin / 75\n",
        "  ymin = ymin / 75\n",
        "  \n",
        "  return image, (tf.one_hot(label, 10), [xmin, ymin, xmax, ymax])\n",
        "  \n",
        "def get_training_dataset():\n",
        "  '''\n",
        "  Loads and maps the training split of the dataset using the map function. \n",
        "  Note that we try to load the gcs version since TPU can only work with datasets on Google Cloud Storage.\n",
        "  '''\n",
        "  \n",
        "  with  strategy.scope():\n",
        "    dataset = tfds.load(\"mnist\", split=\"train\", as_supervised=True, try_gcs=True)\n",
        "    # apply transformations to prepare the data\n",
        "    dataset = dataset.map(read_image_tfds, num_parallel_calls=16)\n",
        "    dataset = dataset.shuffle(5000, reshuffle_each_iteration=True)\n",
        "    dataset = dataset.repeat() # Mandatory for Keras for now\n",
        "    dataset = dataset.batch(BATCH_SIZE, drop_remainder=True) # drop_remainder is important on TPU, batch size must be fixed\n",
        "    dataset = dataset.prefetch(-1)  # fetch next batches while training on the current one (-1: autotune prefetch buffer size)\n",
        "  \n",
        "  return dataset\n",
        "\n",
        "def get_validation_dataset():\n",
        "  '''\n",
        "  Loads and maps the validation split of the dataset using the map function. \n",
        "  Note that we try to load the gcs version since TPU can only work with datasets on Google Cloud Storage.\n",
        "  '''  \n",
        "  \n",
        "  dataset = tfds.load(\"mnist\", split=\"test\", as_supervised=True, try_gcs=True)\n",
        "  dataset = dataset.map(read_image_tfds, num_parallel_calls=16)\n",
        "\n",
        "  #dataset = dataset.cache() # this small dataset can be entirely cached in RAM\n",
        "  dataset = dataset.batch(10000, drop_remainder=True) # 10000 items in eval dataset, all in one batch\n",
        "  dataset = dataset.repeat() # Mandatory for Keras for now\n",
        "  \n",
        "  return dataset\n",
        "\n",
        "# instantiate the datasets\n",
        "with strategy.scope():\n",
        "  training_dataset = get_training_dataset()\n",
        "  validation_dataset = get_validation_dataset()\n"
      ],
      "metadata": {
        "id": "jqJdVwSq1BGv"
      },
      "execution_count": null,
      "outputs": []
    },
    {
      "cell_type": "markdown",
      "source": [
        "##Visualize Data\n"
      ],
      "metadata": {
        "id": "67CZAEmX11yU"
      }
    },
    {
      "cell_type": "code",
      "source": [
        "(training_digits, training_labels, training_bboxes,\n",
        " validation_digits, validation_labels, validation_bboxes) = dataset_to_numpy_util(training_dataset, validation_dataset, 10)\n",
        "\n",
        "display_digits_with_boxes(training_digits, training_labels, training_labels, np.array([]), training_bboxes, np.array([]), \"training digits and their labels\")\n",
        "display_digits_with_boxes(validation_digits, validation_labels, validation_labels, np.array([]), validation_bboxes, np.array([]), \"validation digits and their labels\")"
      ],
      "metadata": {
        "colab": {
          "base_uri": "https://localhost:8080/",
          "height": 511
        },
        "id": "7Mwy6xO114IY",
        "outputId": "3f30c5f4-a71e-4afa-9ecc-24bbbef8e739"
      },
      "execution_count": null,
      "outputs": [
        {
          "output_type": "display_data",
          "data": {
            "text/plain": [
              "<Figure size 1440x288 with 11 Axes>"
            ],
            "image/png": "[encoded data removed]"
          },
          "metadata": {}
        },
        {
          "output_type": "display_data",
          "data": {
            "text/plain": [
              "<Figure size 1440x288 with 11 Axes>"
            ],
            "image/png": "[encoded data removed]"
          },
          "metadata": {}
        }
      ]
    },
    {
      "cell_type": "markdown",
      "source": [
        "##Define the Network\n",
        "Here, we'll define our custom CNN.\n",
        "\n",
        "* **feature_extractor**: these convolutional layers extract the features of the image.\n",
        "* **classifier**: This define the output layer that predicts among 10 categories (digits 0 through 9)\n",
        "* **bounding_box_regression**: This defines the output layer that predicts 4 numeric values, which define the coordinates of the bounding box (xmin, ymin, xmax, ymax)\n",
        "* **final_model**: This combines the layers for feature extraction, classification and bounding box prediction.\n",
        "* **define_and_compile_model**: choose the optimizer and metrics, then compile the model."
      ],
      "metadata": {
        "id": "5-DmC1Ps2UF8"
      }
    },
    {
      "cell_type": "code",
      "source": [
        "def feature_extractor(inputs):\n",
        "  '''\n",
        "  Feature extractor is the CNN that is made up of convolution and pooling layers.\n",
        "  '''\n",
        "\n",
        "  x = tf.keras.layers.Conv2D(16, activation='relu', kernel_size=3, input_shape=(75, 75, 1))(inputs)\n",
        "  x = tf.keras.layers.AveragePooling2D((2, 2))(x)\n",
        "\n",
        "  x = tf.keras.layers.Conv2D(32,kernel_size=3,activation='relu')(x)\n",
        "  x = tf.keras.layers.AveragePooling2D((2, 2))(x)\n",
        "\n",
        "  x = tf.keras.layers.Conv2D(64,kernel_size=3,activation='relu')(x)\n",
        "  x = tf.keras.layers.AveragePooling2D((2, 2))(x)\n",
        "\n",
        "  return x\n",
        "\n",
        "def dense_layers(inputs):\n",
        "  '''\n",
        "  dense_layers adds a flatten and dense layer.\n",
        "  This will follow the feature extraction layers\n",
        "  '''\n",
        "\n",
        "  x = tf.keras.layers.Flatten()(inputs)\n",
        "  x = tf.keras.layers.Dense(128, activation='relu')(x)\n",
        "  \n",
        "  return x\n",
        "\n",
        "\n",
        "\n",
        "def classifier(inputs):\n",
        "  '''\n",
        "  Classifier defines the classification output.\n",
        "  This has a set of fully connected layers and a softmax layer.\n",
        "  '''\n",
        "\n",
        "  classification_output = tf.keras.layers.Dense(10, activation='softmax', name = 'classification')(inputs)\n",
        "  \n",
        "  return classification_output\n",
        "\n",
        "\n",
        "def bounding_box_regression(inputs):\n",
        "  '''\n",
        "  This function defines the regression output for bounding box prediction. \n",
        "  Note that we have four outputs corresponding to (xmin, ymin, xmax, ymax)\n",
        "  '''\n",
        "  \n",
        "  bounding_box_regression_output = tf.keras.layers.Dense(units = 4, name = 'bounding_box')(inputs)\n",
        "    \n",
        "  return bounding_box_regression_output\n",
        "\n",
        "\n",
        "def final_model(inputs):\n",
        "  \n",
        "  feature_cnn = feature_extractor(inputs)\n",
        "  dense_output = dense_layers(feature_cnn)\n",
        "  '''\n",
        "  The model branches here.  \n",
        "  The dense layer's output gets fed into two branches:\n",
        "  classification_output and bounding_box_output\n",
        "  '''\n",
        "  classification_output = classifier(dense_output)\n",
        "  bounding_box_output = bounding_box_regression(dense_output)\n",
        "\n",
        "  model = tf.keras.Model(inputs = inputs, outputs = [classification_output, bounding_box_output])\n",
        "\n",
        "  return model\n",
        "  \n",
        "\n",
        "def define_and_compile_model(inputs):\n",
        "  model = final_model(inputs)\n",
        "  \n",
        "  model.compile(optimizer='adam', \n",
        "              loss = {'classification' : 'categorical_crossentropy',\n",
        "                      'bounding_box' : 'mse'\n",
        "                     },\n",
        "              metrics = {'classification' : 'accuracy',\n",
        "                         'bounding_box' : 'mse'\n",
        "                        })\n",
        "  return model\n"
      ],
      "metadata": {
        "id": "am6rhGkW24qi"
      },
      "execution_count": null,
      "outputs": []
    },
    {
      "cell_type": "code",
      "source": [
        "with strategy.scope():\n",
        "  inputs = tf.keras.layers.Input(shape=(75, 75, 1,))\n",
        "  model = define_and_compile_model(inputs)\n",
        "\n",
        "# print model layers\n",
        "model.summary()"
      ],
      "metadata": {
        "colab": {
          "base_uri": "https://localhost:8080/"
        },
        "id": "VHJLfrBI2_RO",
        "outputId": "6ef35f3d-84d8-41c0-e22a-5787a0661fd5"
      },
      "execution_count": null,
      "outputs": [
        {
          "output_type": "stream",
          "name": "stdout",
          "text": [
            "Model: \"model\"\n",
            "__________________________________________________________________________________________________\n",
            " Layer (type)                   Output Shape         Param #     Connected to                     \n",
            "==================================================================================================\n",
            " input_1 (InputLayer)           [(None, 75, 75, 1)]  0           []                               \n",
            "                                                                                                  \n",
            " conv2d (Conv2D)                (None, 73, 73, 16)   160         ['input_1[0][0]']                \n",
            "                                                                                                  \n",
            " average_pooling2d (AveragePool  (None, 36, 36, 16)  0           ['conv2d[0][0]']                 \n",
            " ing2D)                                                                                           \n",
            "                                                                                                  \n",
            " conv2d_1 (Conv2D)              (None, 34, 34, 32)   4640        ['average_pooling2d[0][0]']      \n",
            "                                                                                                  \n",
            " average_pooling2d_1 (AveragePo  (None, 17, 17, 32)  0           ['conv2d_1[0][0]']               \n",
            " oling2D)                                                                                         \n",
            "                                                                                                  \n",
            " conv2d_2 (Conv2D)              (None, 15, 15, 64)   18496       ['average_pooling2d_1[0][0]']    \n",
            "                                                                                                  \n",
            " average_pooling2d_2 (AveragePo  (None, 7, 7, 64)    0           ['conv2d_2[0][0]']               \n",
            " oling2D)                                                                                         \n",
            "                                                                                                  \n",
            " flatten (Flatten)              (None, 3136)         0           ['average_pooling2d_2[0][0]']    \n",
            "                                                                                                  \n",
            " dense (Dense)                  (None, 128)          401536      ['flatten[0][0]']                \n",
            "                                                                                                  \n",
            " classification (Dense)         (None, 10)           1290        ['dense[0][0]']                  \n",
            "                                                                                                  \n",
            " bounding_box (Dense)           (None, 4)            516         ['dense[0][0]']                  \n",
            "                                                                                                  \n",
            "==================================================================================================\n",
            "Total params: 426,638\n",
            "Trainable params: 426,638\n",
            "Non-trainable params: 0\n",
            "__________________________________________________________________________________________________\n"
          ]
        }
      ]
    },
    {
      "cell_type": "markdown",
      "source": [
        "##Train and validate the model\n",
        "\n",
        "Train the model.\n",
        "\n",
        "We can choose the number of epochs depending on the level of performance that we want and the time that we have."
      ],
      "metadata": {
        "id": "hmSJsh644Iba"
      }
    },
    {
      "cell_type": "code",
      "source": [
        "EPOCHS = 10 # 45\n",
        "steps_per_epoch = 60000//BATCH_SIZE  # 60,000 items in this dataset\n",
        "validation_steps = 1\n",
        "\n",
        "history = model.fit(training_dataset,\n",
        "                    steps_per_epoch=steps_per_epoch, validation_data=validation_dataset, validation_steps=validation_steps, epochs=EPOCHS)\n",
        "\n",
        "loss, classification_loss, bounding_box_loss, classification_accuracy, bounding_box_mse = model.evaluate(validation_dataset, steps=1)\n",
        "print(\"Validation accuracy: \", classification_accuracy)"
      ],
      "metadata": {
        "colab": {
          "base_uri": "https://localhost:8080/"
        },
        "id": "SRKNNcOw4OgT",
        "outputId": "fe51427d-97f0-4b1e-f055-d22e67502623"
      },
      "execution_count": null,
      "outputs": [
        {
          "output_type": "stream",
          "name": "stdout",
          "text": [
            "Epoch 1/10\n",
            "117/117 [==============================] - 12s 47ms/step - loss: 2.1261 - classification_loss: 2.1035 - bounding_box_loss: 0.0225 - classification_accuracy: 0.2202 - bounding_box_mse: 0.0225 - val_loss: 1.6209 - val_classification_loss: 1.6057 - val_bounding_box_loss: 0.0152 - val_classification_accuracy: 0.4533 - val_bounding_box_mse: 0.0152\n",
            "Epoch 2/10\n",
            "117/117 [==============================] - 3s 27ms/step - loss: 0.9733 - classification_loss: 0.9448 - bounding_box_loss: 0.0285 - classification_accuracy: 0.7098 - bounding_box_mse: 0.0285 - val_loss: 0.5575 - val_classification_loss: 0.5324 - val_bounding_box_loss: 0.0251 - val_classification_accuracy: 0.8461 - val_bounding_box_mse: 0.0251\n",
            "Epoch 3/10\n",
            "117/117 [==============================] - 3s 28ms/step - loss: 0.4573 - classification_loss: 0.4381 - bounding_box_loss: 0.0192 - classification_accuracy: 0.8736 - bounding_box_mse: 0.0192 - val_loss: 0.3524 - val_classification_loss: 0.3364 - val_bounding_box_loss: 0.0160 - val_classification_accuracy: 0.8998 - val_bounding_box_mse: 0.0160\n",
            "Epoch 4/10\n",
            "117/117 [==============================] - 3s 29ms/step - loss: 0.3464 - classification_loss: 0.3315 - bounding_box_loss: 0.0149 - classification_accuracy: 0.9042 - bounding_box_mse: 0.0149 - val_loss: 0.2917 - val_classification_loss: 0.2788 - val_bounding_box_loss: 0.0129 - val_classification_accuracy: 0.9164 - val_bounding_box_mse: 0.0129\n",
            "Epoch 5/10\n",
            "117/117 [==============================] - 3s 30ms/step - loss: 0.2813 - classification_loss: 0.2694 - bounding_box_loss: 0.0119 - classification_accuracy: 0.9210 - bounding_box_mse: 0.0119 - val_loss: 0.2673 - val_classification_loss: 0.2496 - val_bounding_box_loss: 0.0176 - val_classification_accuracy: 0.9243 - val_bounding_box_mse: 0.0176\n",
            "Epoch 6/10\n",
            "117/117 [==============================] - 5s 46ms/step - loss: 0.2448 - classification_loss: 0.2344 - bounding_box_loss: 0.0103 - classification_accuracy: 0.9317 - bounding_box_mse: 0.0103 - val_loss: 0.2110 - val_classification_loss: 0.2026 - val_bounding_box_loss: 0.0083 - val_classification_accuracy: 0.9390 - val_bounding_box_mse: 0.0083\n",
            "Epoch 7/10\n",
            "117/117 [==============================] - 4s 31ms/step - loss: 0.2174 - classification_loss: 0.2084 - bounding_box_loss: 0.0090 - classification_accuracy: 0.9384 - bounding_box_mse: 0.0090 - val_loss: 0.1795 - val_classification_loss: 0.1722 - val_bounding_box_loss: 0.0073 - val_classification_accuracy: 0.9487 - val_bounding_box_mse: 0.0073\n",
            "Epoch 8/10\n",
            "117/117 [==============================] - 3s 28ms/step - loss: 0.2027 - classification_loss: 0.1949 - bounding_box_loss: 0.0078 - classification_accuracy: 0.9413 - bounding_box_mse: 0.0078 - val_loss: 0.1801 - val_classification_loss: 0.1730 - val_bounding_box_loss: 0.0072 - val_classification_accuracy: 0.9475 - val_bounding_box_mse: 0.0072\n",
            "Epoch 9/10\n",
            "117/117 [==============================] - 3s 29ms/step - loss: 0.1813 - classification_loss: 0.1744 - bounding_box_loss: 0.0069 - classification_accuracy: 0.9473 - bounding_box_mse: 0.0069 - val_loss: 0.1552 - val_classification_loss: 0.1494 - val_bounding_box_loss: 0.0058 - val_classification_accuracy: 0.9542 - val_bounding_box_mse: 0.0058\n",
            "Epoch 10/10\n",
            "117/117 [==============================] - 3s 30ms/step - loss: 0.1693 - classification_loss: 0.1634 - bounding_box_loss: 0.0059 - classification_accuracy: 0.9511 - bounding_box_mse: 0.0059 - val_loss: 0.1795 - val_classification_loss: 0.1736 - val_bounding_box_loss: 0.0059 - val_classification_accuracy: 0.9440 - val_bounding_box_mse: 0.0059\n",
            "1/1 [==============================] - 1s 989ms/step - loss: 0.1683 - classification_loss: 0.1624 - bounding_box_loss: 0.0059 - classification_accuracy: 0.9485 - bounding_box_mse: 0.0059\n",
            "Validation accuracy:  0.9484999775886536\n"
          ]
        }
      ]
    },
    {
      "cell_type": "code",
      "source": [
        "plot_metrics(\"classification_loss\", \"Classification Loss\")\n",
        "plot_metrics(\"bounding_box_loss\", \"Bounding Box Loss\")"
      ],
      "metadata": {
        "colab": {
          "base_uri": "https://localhost:8080/",
          "height": 284
        },
        "id": "NpQ5Luvl4sGS",
        "outputId": "1d897fff-660b-4053-d9da-7bb4f7fb0213"
      },
      "execution_count": null,
      "outputs": [
        {
          "output_type": "display_data",
          "data": {
            "text/plain": [
              "<Figure size 432x288 with 1 Axes>"
            ],
            "image/png": "[encoded data removed]"
          },
          "metadata": {}
        }
      ]
    },
    {
      "cell_type": "markdown",
      "source": [
        "##Intersection over union\n",
        "Calculate the I-O-U metric to evaluate the model's performance.\n",
        "\n"
      ],
      "metadata": {
        "id": "7EnYHjnQ45y0"
      }
    },
    {
      "cell_type": "code",
      "source": [
        "def intersection_over_union(pred_box, true_box):\n",
        "    xmin_pred, ymin_pred, xmax_pred, ymax_pred =  np.split(pred_box, 4, axis = 1)\n",
        "    xmin_true, ymin_true, xmax_true, ymax_true = np.split(true_box, 4, axis = 1)\n",
        "\n",
        "    smoothing_factor = 1e-10\n",
        "\n",
        "    xmin_overlap = np.maximum(xmin_pred, xmin_true)\n",
        "    xmax_overlap = np.minimum(xmax_pred, xmax_true)\n",
        "    ymin_overlap = np.maximum(ymin_pred, ymin_true)\n",
        "    ymax_overlap = np.minimum(ymax_pred, ymax_true)\n",
        "\n",
        "    pred_box_area = (xmax_pred - xmin_pred) * (ymax_pred - ymin_pred)\n",
        "    true_box_area = (xmax_true - xmin_true) * (ymax_true - ymin_true)\n",
        "\n",
        "    overlap_area = np.maximum((xmax_overlap - xmin_overlap), 0)  * np.maximum((ymax_overlap - ymin_overlap), 0)\n",
        "    union_area = (pred_box_area + true_box_area) - overlap_area\n",
        "    \n",
        "    iou = (overlap_area + smoothing_factor) / (union_area + smoothing_factor)\n",
        "\n",
        "    return iou"
      ],
      "metadata": {
        "id": "2Ae7oUkv4-Xn"
      },
      "execution_count": null,
      "outputs": []
    },
    {
      "cell_type": "markdown",
      "source": [
        "##Visualize predictions\n",
        "\n",
        "The following code will make predictions and visualize both the classification and the predicted bounding boxes.\n",
        "\n",
        "The true bounding box labels will be in green, and the model's predicted bounding boxes are in red.\n",
        "The predicted number is shown below the image."
      ],
      "metadata": {
        "id": "j8GLwFV15FMP"
      }
    },
    {
      "cell_type": "code",
      "source": [
        "# recognize validation digits\n",
        "predictions = model.predict(validation_digits, batch_size=64)\n",
        "predicted_labels = np.argmax(predictions[0], axis=1)\n",
        "\n",
        "predicted_bboxes = predictions[1]\n",
        "\n",
        "iou = intersection_over_union(predicted_bboxes, validation_bboxes)\n",
        "\n",
        "iou_threshold = 0.6\n",
        "\n",
        "print(\"Number of predictions where iou > threshold(%s): %s\" % (iou_threshold, (iou >= iou_threshold).sum()))\n",
        "print(\"Number of predictions where iou < threshold(%s): %s\" % (iou_threshold, (iou < iou_threshold).sum()))\n",
        "\n",
        "\n",
        "display_digits_with_boxes(validation_digits, predicted_labels, validation_labels, predicted_bboxes, validation_bboxes, iou, \"True and Predicted values\")"
      ],
      "metadata": {
        "colab": {
          "base_uri": "https://localhost:8080/",
          "height": 319
        },
        "id": "cswZ8F-S5KGP",
        "outputId": "3cccb07d-6606-4dc5-8406-7ad6461f07d5"
      },
      "execution_count": null,
      "outputs": [
        {
          "output_type": "stream",
          "name": "stdout",
          "text": [
            "157/157 [==============================] - 4s 20ms/step\n",
            "Number of predictions where iou > threshold(0.6): 3403\n",
            "Number of predictions where iou < threshold(0.6): 6597\n"
          ]
        },
        {
          "output_type": "display_data",
          "data": {
            "text/plain": [
              "<Figure size 1440x288 with 11 Axes>"
            ],
            "image/png": "[encoded data removed]"
          },
          "metadata": {}
        }
      ]
    }
  ]
}