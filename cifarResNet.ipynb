{
  "nbformat": 4,
  "nbformat_minor": 0,
  "metadata": {
    "colab": {
      "provenance": []
    },
    "kernelspec": {
      "name": "python3",
      "display_name": "Python 3"
    },
    "language_info": {
      "name": "python"
    },
    "accelerator": "GPU",
    "gpuClass": "standard"
  },
  "cells": [
    {
      "cell_type": "markdown",
      "source": [
        "##ResNet50 on Cifar Dataset"
      ],
      "metadata": {
        "id": "20xLjxsij1La"
      }
    },
    {
      "cell_type": "markdown",
      "source": [
        "###Importing Libraries"
      ],
      "metadata": {
        "id": "HwnyACJCj7AP"
      }
    },
    {
      "cell_type": "code",
      "execution_count": null,
      "metadata": {
        "colab": {
          "base_uri": "https://localhost:8080/"
        },
        "id": "gbyHrDfDgMud",
        "outputId": "84db65f3-4820-4299-c345-5da4c186cd10"
      },
      "outputs": [
        {
          "output_type": "stream",
          "name": "stdout",
          "text": [
            "Version of tensorflow is :  2.11.0\n"
          ]
        }
      ],
      "source": [
        "import tensorflow as tf\n",
        "import tensorflow_datasets as tfds\n",
        "import matplotlib.pyplot as plt\n",
        "%matplotlib inline\n",
        "print(\"Version of tensorflow is : \",tf.__version__)"
      ]
    },
    {
      "cell_type": "markdown",
      "source": [
        "###Getting the cifar data"
      ],
      "metadata": {
        "id": "Ix51UzHEj-FS"
      }
    },
    {
      "cell_type": "code",
      "source": [
        "BATCH_SIZE = 32 \n",
        "classes = ['airplane', 'automobile', 'bird', 'cat', 'deer', 'dog', 'frog', 'horse', 'ship', 'truck']"
      ],
      "metadata": {
        "id": "aOcjjR4xgUsE"
      },
      "execution_count": null,
      "outputs": []
    },
    {
      "cell_type": "code",
      "source": [
        "(training_images, training_labels) , (validation_images, validation_labels) = tf.keras.datasets.cifar10.load_data()"
      ],
      "metadata": {
        "colab": {
          "base_uri": "https://localhost:8080/"
        },
        "id": "tWh3TvfTgYqy",
        "outputId": "151a8821-603c-424d-841c-b83aeceb3239"
      },
      "execution_count": null,
      "outputs": [
        {
          "output_type": "stream",
          "name": "stdout",
          "text": [
            "Downloading data from https://www.cs.toronto.edu/~kriz/cifar-10-python.tar.gz\n",
            "170498071/170498071 [==============================] - 14s 0us/step\n"
          ]
        }
      ]
    },
    {
      "cell_type": "code",
      "source": [
        "training_images.shape, type(training_images), training_images.dtype"
      ],
      "metadata": {
        "colab": {
          "base_uri": "https://localhost:8080/"
        },
        "id": "Xi3m3lA-g3hB",
        "outputId": "9b11270f-5639-4b26-bc5f-188c67a1aa3f"
      },
      "execution_count": null,
      "outputs": [
        {
          "output_type": "execute_result",
          "data": {
            "text/plain": [
              "((50000, 32, 32, 3), numpy.ndarray, dtype('uint8'))"
            ]
          },
          "metadata": {},
          "execution_count": 4
        }
      ]
    },
    {
      "cell_type": "markdown",
      "source": [
        "###Preprocessing"
      ],
      "metadata": {
        "id": "E-XeiTu1kDoA"
      }
    },
    {
      "cell_type": "code",
      "source": [
        "def process_input(images):\n",
        "    img = images.astype('float')\n",
        "    img = tf.keras.applications.resnet50.preprocess_input(img)\n",
        "    return img"
      ],
      "metadata": {
        "id": "ULhrs0a9gyK8"
      },
      "execution_count": null,
      "outputs": []
    },
    {
      "cell_type": "code",
      "source": [
        "X_train = process_input(training_images)\n",
        "X_val   = process_input(validation_images)"
      ],
      "metadata": {
        "id": "acUwLo0Ag1yI"
      },
      "execution_count": null,
      "outputs": []
    },
    {
      "cell_type": "code",
      "source": [
        "X_train.shape, type(X_train), X_train.dtype"
      ],
      "metadata": {
        "colab": {
          "base_uri": "https://localhost:8080/"
        },
        "id": "1StMSggjhbng",
        "outputId": "39889e3a-5bab-4274-acdf-fec001777d7c"
      },
      "execution_count": null,
      "outputs": [
        {
          "output_type": "execute_result",
          "data": {
            "text/plain": [
              "((50000, 32, 32, 3), numpy.ndarray, dtype('float64'))"
            ]
          },
          "metadata": {},
          "execution_count": 7
        }
      ]
    },
    {
      "cell_type": "code",
      "source": [
        "print(\"Shape of X_train : \",X_train.shape)\n",
        "print(\"Shape of training_labels : \",training_labels.shape)\n",
        "print(\"Shape of X_val : \",X_val.shape)\n",
        "print(\"Shape of validation_labels : \",validation_labels.shape)"
      ],
      "metadata": {
        "colab": {
          "base_uri": "https://localhost:8080/"
        },
        "id": "spGdCJJ5h6Qr",
        "outputId": "2e5c8152-99b2-466a-962f-504b15c48390"
      },
      "execution_count": null,
      "outputs": [
        {
          "output_type": "stream",
          "name": "stdout",
          "text": [
            "Shape of X_train :  (50000, 32, 32, 3)\n",
            "Shape of training_labels :  (50000, 1)\n",
            "Shape of X_val :  (10000, 32, 32, 3)\n",
            "Shape of validation_labels :  (10000, 1)\n"
          ]
        }
      ]
    },
    {
      "cell_type": "markdown",
      "source": [
        "###Defining the model"
      ],
      "metadata": {
        "id": "VGaKiolYkGoF"
      }
    },
    {
      "cell_type": "code",
      "source": [
        "def predefine_model(inputs):\n",
        "    resnet = tf.keras.applications.resnet.ResNet50(weights='imagenet' , include_top=False , input_shape=(224,224,3))\n",
        "    x = resnet(inputs)\n",
        "    return x\n",
        "     \n",
        "\n",
        "def outputlayer(inputs):\n",
        "    x = predefine_model(inputs)\n",
        "    x = tf.keras.layers.GlobalAveragePooling2D()(x)\n",
        "    x = tf.keras.layers.Flatten()(x)\n",
        "    x = tf.keras.layers.Dense(1024 , activation = 'relu')(x)\n",
        "    x = tf.keras.layers.Dense(512  , activation = 'relu')(x)\n",
        "    x = tf.keras.layers.Dense(10   , activation = 'softmax' , name=\"classification\")(x)\n",
        "    \n",
        "    return x\n",
        "     \n",
        "\n",
        "def get_model():\n",
        "    Input = tf.keras.layers.Input(shape=(32 , 32 , 3))\n",
        "    x     = tf.keras.layers.UpSampling2D(size=(7,7))(Input)\n",
        "    x     = outputlayer(x)\n",
        "\n",
        "    model = tf.keras.models.Model(inputs = Input , outputs = x)\n",
        "    model.compile(loss = tf.keras.losses.sparse_categorical_crossentropy , optimizer = 'sgd' , metrics = ['acc'])\n",
        "    return model\n",
        "     "
      ],
      "metadata": {
        "id": "6tRMrZkEiD7Z"
      },
      "execution_count": null,
      "outputs": []
    },
    {
      "cell_type": "code",
      "source": [
        "model = get_model()"
      ],
      "metadata": {
        "colab": {
          "base_uri": "https://localhost:8080/"
        },
        "id": "lFtuFjy6iijW",
        "outputId": "b24acdb6-1be8-40a5-dfd1-c79006d4d849"
      },
      "execution_count": null,
      "outputs": [
        {
          "output_type": "stream",
          "name": "stdout",
          "text": [
            "Downloading data from https://storage.googleapis.com/tensorflow/keras-applications/resnet/resnet50_weights_tf_dim_ordering_tf_kernels_notop.h5\n",
            "94765736/94765736 [==============================] - 5s 0us/step\n"
          ]
        }
      ]
    },
    {
      "cell_type": "code",
      "source": [
        "model.summary()"
      ],
      "metadata": {
        "colab": {
          "base_uri": "https://localhost:8080/"
        },
        "id": "7F7PFoIlijRV",
        "outputId": "1d73670a-fea9-4297-c9d8-a151a1095d39"
      },
      "execution_count": null,
      "outputs": [
        {
          "output_type": "stream",
          "name": "stdout",
          "text": [
            "Model: \"model\"\n",
            "_________________________________________________________________\n",
            " Layer (type)                Output Shape              Param #   \n",
            "=================================================================\n",
            " input_1 (InputLayer)        [(None, 32, 32, 3)]       0         \n",
            "                                                                 \n",
            " up_sampling2d (UpSampling2D  (None, 224, 224, 3)      0         \n",
            " )                                                               \n",
            "                                                                 \n",
            " resnet50 (Functional)       (None, 7, 7, 2048)        23587712  \n",
            "                                                                 \n",
            " global_average_pooling2d (G  (None, 2048)             0         \n",
            " lobalAveragePooling2D)                                          \n",
            "                                                                 \n",
            " flatten (Flatten)           (None, 2048)              0         \n",
            "                                                                 \n",
            " dense (Dense)               (None, 1024)              2098176   \n",
            "                                                                 \n",
            " dense_1 (Dense)             (None, 512)               524800    \n",
            "                                                                 \n",
            " classification (Dense)      (None, 10)                5130      \n",
            "                                                                 \n",
            "=================================================================\n",
            "Total params: 26,215,818\n",
            "Trainable params: 26,162,698\n",
            "Non-trainable params: 53,120\n",
            "_________________________________________________________________\n"
          ]
        }
      ]
    },
    {
      "cell_type": "markdown",
      "source": [
        "###Training the model"
      ],
      "metadata": {
        "id": "p0aLTshRkJ8E"
      }
    },
    {
      "cell_type": "code",
      "source": [
        "epoch = 1\n",
        "his = model.fit(X_train , training_labels ,\n",
        "                epochs=epoch , batch_size=32 ,\n",
        "                validation_data=(X_val , validation_labels) ,\n",
        "                validation_batch_size=32)"
      ],
      "metadata": {
        "colab": {
          "base_uri": "https://localhost:8080/"
        },
        "id": "RPnn6n-giq71",
        "outputId": "b4ba63a3-d723-492d-c63e-59a37cb1b988"
      },
      "execution_count": null,
      "outputs": [
        {
          "output_type": "stream",
          "name": "stdout",
          "text": [
            "1563/1563 [==============================] - 569s 349ms/step - loss: 0.3494 - acc: 0.8821 - val_loss: 0.1845 - val_acc: 0.9395\n"
          ]
        }
      ]
    },
    {
      "cell_type": "markdown",
      "source": [
        "Able to get an validation accuracy of almost 94% in just 1 epoch"
      ],
      "metadata": {
        "id": "lO7S-vVBvwFo"
      }
    }
  ]
}